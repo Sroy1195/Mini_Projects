{
 "cells": [
  {
   "cell_type": "code",
   "execution_count": 1,
   "id": "46bc75c0-da76-459b-bd60-42537241998b",
   "metadata": {},
   "outputs": [],
   "source": [
    "import pandas as pd\n",
    "import matplotlib.pyplot as plt"
   ]
  },
  {
   "cell_type": "code",
   "execution_count": 3,
   "id": "00bcd763-3d42-4472-aa55-0ee79fe286cf",
   "metadata": {},
   "outputs": [
    {
     "data": {
      "text/html": [
       "<div>\n",
       "<style scoped>\n",
       "    .dataframe tbody tr th:only-of-type {\n",
       "        vertical-align: middle;\n",
       "    }\n",
       "\n",
       "    .dataframe tbody tr th {\n",
       "        vertical-align: top;\n",
       "    }\n",
       "\n",
       "    .dataframe thead th {\n",
       "        text-align: right;\n",
       "    }\n",
       "</style>\n",
       "<table border=\"1\" class=\"dataframe\">\n",
       "  <thead>\n",
       "    <tr style=\"text-align: right;\">\n",
       "      <th></th>\n",
       "      <th>Unnamed: 0</th>\n",
       "      <th>Airline Name</th>\n",
       "      <th>Overall_Rating</th>\n",
       "      <th>Review_Title</th>\n",
       "      <th>Review Date</th>\n",
       "      <th>Verified</th>\n",
       "      <th>Review</th>\n",
       "      <th>Aircraft</th>\n",
       "      <th>Type Of Traveller</th>\n",
       "      <th>Seat Type</th>\n",
       "      <th>Route</th>\n",
       "      <th>Date Flown</th>\n",
       "      <th>Seat Comfort</th>\n",
       "      <th>Cabin Staff Service</th>\n",
       "      <th>Food &amp; Beverages</th>\n",
       "      <th>Ground Service</th>\n",
       "      <th>Inflight Entertainment</th>\n",
       "      <th>Wifi &amp; Connectivity</th>\n",
       "      <th>Value For Money</th>\n",
       "      <th>Recommended</th>\n",
       "    </tr>\n",
       "  </thead>\n",
       "  <tbody>\n",
       "    <tr>\n",
       "      <th>0</th>\n",
       "      <td>0</td>\n",
       "      <td>AB Aviation</td>\n",
       "      <td>9</td>\n",
       "      <td>\"pretty decent airline\"</td>\n",
       "      <td>11th November 2019</td>\n",
       "      <td>True</td>\n",
       "      <td>Moroni to Moheli. Turned out to be a pretty ...</td>\n",
       "      <td>NaN</td>\n",
       "      <td>Solo Leisure</td>\n",
       "      <td>Economy Class</td>\n",
       "      <td>Moroni to Moheli</td>\n",
       "      <td>November 2019</td>\n",
       "      <td>4.0</td>\n",
       "      <td>5.0</td>\n",
       "      <td>4.0</td>\n",
       "      <td>4.0</td>\n",
       "      <td>NaN</td>\n",
       "      <td>NaN</td>\n",
       "      <td>3.0</td>\n",
       "      <td>yes</td>\n",
       "    </tr>\n",
       "    <tr>\n",
       "      <th>1</th>\n",
       "      <td>1</td>\n",
       "      <td>AB Aviation</td>\n",
       "      <td>1</td>\n",
       "      <td>\"Not a good airline\"</td>\n",
       "      <td>25th June 2019</td>\n",
       "      <td>True</td>\n",
       "      <td>Moroni to Anjouan. It is a very small airline...</td>\n",
       "      <td>E120</td>\n",
       "      <td>Solo Leisure</td>\n",
       "      <td>Economy Class</td>\n",
       "      <td>Moroni to Anjouan</td>\n",
       "      <td>June 2019</td>\n",
       "      <td>2.0</td>\n",
       "      <td>2.0</td>\n",
       "      <td>1.0</td>\n",
       "      <td>1.0</td>\n",
       "      <td>NaN</td>\n",
       "      <td>NaN</td>\n",
       "      <td>2.0</td>\n",
       "      <td>no</td>\n",
       "    </tr>\n",
       "    <tr>\n",
       "      <th>2</th>\n",
       "      <td>2</td>\n",
       "      <td>AB Aviation</td>\n",
       "      <td>1</td>\n",
       "      <td>\"flight was fortunately short\"</td>\n",
       "      <td>25th June 2019</td>\n",
       "      <td>True</td>\n",
       "      <td>Anjouan to Dzaoudzi. A very small airline an...</td>\n",
       "      <td>Embraer E120</td>\n",
       "      <td>Solo Leisure</td>\n",
       "      <td>Economy Class</td>\n",
       "      <td>Anjouan to Dzaoudzi</td>\n",
       "      <td>June 2019</td>\n",
       "      <td>2.0</td>\n",
       "      <td>1.0</td>\n",
       "      <td>1.0</td>\n",
       "      <td>1.0</td>\n",
       "      <td>NaN</td>\n",
       "      <td>NaN</td>\n",
       "      <td>2.0</td>\n",
       "      <td>no</td>\n",
       "    </tr>\n",
       "    <tr>\n",
       "      <th>3</th>\n",
       "      <td>3</td>\n",
       "      <td>Adria Airways</td>\n",
       "      <td>1</td>\n",
       "      <td>\"I will never fly again with Adria\"</td>\n",
       "      <td>28th September 2019</td>\n",
       "      <td>False</td>\n",
       "      <td>Please do a favor yourself and do not fly wi...</td>\n",
       "      <td>NaN</td>\n",
       "      <td>Solo Leisure</td>\n",
       "      <td>Economy Class</td>\n",
       "      <td>Frankfurt to Pristina</td>\n",
       "      <td>September 2019</td>\n",
       "      <td>1.0</td>\n",
       "      <td>1.0</td>\n",
       "      <td>NaN</td>\n",
       "      <td>1.0</td>\n",
       "      <td>NaN</td>\n",
       "      <td>NaN</td>\n",
       "      <td>1.0</td>\n",
       "      <td>no</td>\n",
       "    </tr>\n",
       "    <tr>\n",
       "      <th>4</th>\n",
       "      <td>4</td>\n",
       "      <td>Adria Airways</td>\n",
       "      <td>1</td>\n",
       "      <td>\"it ruined our last days of holidays\"</td>\n",
       "      <td>24th September 2019</td>\n",
       "      <td>True</td>\n",
       "      <td>Do not book a flight with this airline! My fr...</td>\n",
       "      <td>NaN</td>\n",
       "      <td>Couple Leisure</td>\n",
       "      <td>Economy Class</td>\n",
       "      <td>Sofia to Amsterdam via Ljubljana</td>\n",
       "      <td>September 2019</td>\n",
       "      <td>1.0</td>\n",
       "      <td>1.0</td>\n",
       "      <td>1.0</td>\n",
       "      <td>1.0</td>\n",
       "      <td>1.0</td>\n",
       "      <td>1.0</td>\n",
       "      <td>1.0</td>\n",
       "      <td>no</td>\n",
       "    </tr>\n",
       "  </tbody>\n",
       "</table>\n",
       "</div>"
      ],
      "text/plain": [
       "   Unnamed: 0   Airline Name Overall_Rating  \\\n",
       "0           0    AB Aviation              9   \n",
       "1           1    AB Aviation              1   \n",
       "2           2    AB Aviation              1   \n",
       "3           3  Adria Airways              1   \n",
       "4           4  Adria Airways              1   \n",
       "\n",
       "                            Review_Title          Review Date  Verified  \\\n",
       "0                \"pretty decent airline\"   11th November 2019      True   \n",
       "1                   \"Not a good airline\"       25th June 2019      True   \n",
       "2         \"flight was fortunately short\"       25th June 2019      True   \n",
       "3    \"I will never fly again with Adria\"  28th September 2019     False   \n",
       "4  \"it ruined our last days of holidays\"  24th September 2019      True   \n",
       "\n",
       "                                              Review       Aircraft  \\\n",
       "0    Moroni to Moheli. Turned out to be a pretty ...            NaN   \n",
       "1   Moroni to Anjouan. It is a very small airline...           E120   \n",
       "2    Anjouan to Dzaoudzi. A very small airline an...  Embraer E120    \n",
       "3    Please do a favor yourself and do not fly wi...            NaN   \n",
       "4   Do not book a flight with this airline! My fr...            NaN   \n",
       "\n",
       "  Type Of Traveller      Seat Type                             Route  \\\n",
       "0      Solo Leisure  Economy Class                  Moroni to Moheli   \n",
       "1      Solo Leisure  Economy Class                 Moroni to Anjouan   \n",
       "2      Solo Leisure  Economy Class               Anjouan to Dzaoudzi   \n",
       "3      Solo Leisure  Economy Class             Frankfurt to Pristina   \n",
       "4    Couple Leisure  Economy Class  Sofia to Amsterdam via Ljubljana   \n",
       "\n",
       "       Date Flown  Seat Comfort  Cabin Staff Service  Food & Beverages  \\\n",
       "0   November 2019           4.0                  5.0               4.0   \n",
       "1       June 2019           2.0                  2.0               1.0   \n",
       "2       June 2019           2.0                  1.0               1.0   \n",
       "3  September 2019           1.0                  1.0               NaN   \n",
       "4  September 2019           1.0                  1.0               1.0   \n",
       "\n",
       "   Ground Service  Inflight Entertainment  Wifi & Connectivity  \\\n",
       "0             4.0                     NaN                  NaN   \n",
       "1             1.0                     NaN                  NaN   \n",
       "2             1.0                     NaN                  NaN   \n",
       "3             1.0                     NaN                  NaN   \n",
       "4             1.0                     1.0                  1.0   \n",
       "\n",
       "   Value For Money Recommended  \n",
       "0              3.0         yes  \n",
       "1              2.0          no  \n",
       "2              2.0          no  \n",
       "3              1.0          no  \n",
       "4              1.0          no  "
      ]
     },
     "execution_count": 3,
     "metadata": {},
     "output_type": "execute_result"
    }
   ],
   "source": [
    "df=pd.read_csv(\"C:\\\\Users\\\\soura\\\\Documents\\\\DS_ML_assignments/Airline_Reviews.csv\")\n",
    "df.head()"
   ]
  },
  {
   "cell_type": "code",
   "execution_count": 7,
   "id": "f46d1bcd-edbb-4183-8d39-763c5d653d62",
   "metadata": {},
   "outputs": [
    {
     "data": {
      "text/plain": [
       "Index(['Unnamed: 0', 'Airline Name', 'Overall_Rating', 'Review_Title',\n",
       "       'Review Date', 'Verified', 'Review', 'Aircraft', 'Type Of Traveller',\n",
       "       'Seat Type', 'Route', 'Date Flown', 'Seat Comfort',\n",
       "       'Cabin Staff Service', 'Food & Beverages', 'Ground Service',\n",
       "       'Inflight Entertainment', 'Wifi & Connectivity', 'Value For Money',\n",
       "       'Recommended'],\n",
       "      dtype='object')"
      ]
     },
     "execution_count": 7,
     "metadata": {},
     "output_type": "execute_result"
    }
   ],
   "source": [
    "df.columns"
   ]
  },
  {
   "cell_type": "code",
   "execution_count": 39,
   "id": "f023ece5-f550-4b0f-9c66-b76b4af24dca",
   "metadata": {},
   "outputs": [],
   "source": [
    "df_new=df.drop(['Unnamed: 0','Review_Title', 'Review Date', 'Verified', 'Aircraft', 'Type Of Traveller', 'Seat Type', 'Route', 'Date Flown', 'Seat Comfort', 'Cabin Staff Service', 'Food & Beverages', 'Ground Service', 'Inflight Entertainment', 'Wifi & Connectivity', 'Value For Money'], axis=1)"
   ]
  },
  {
   "cell_type": "code",
   "execution_count": 41,
   "id": "f9773e76-7734-4ca9-8001-68c80f07d241",
   "metadata": {},
   "outputs": [
    {
     "data": {
      "text/html": [
       "<div>\n",
       "<style scoped>\n",
       "    .dataframe tbody tr th:only-of-type {\n",
       "        vertical-align: middle;\n",
       "    }\n",
       "\n",
       "    .dataframe tbody tr th {\n",
       "        vertical-align: top;\n",
       "    }\n",
       "\n",
       "    .dataframe thead th {\n",
       "        text-align: right;\n",
       "    }\n",
       "</style>\n",
       "<table border=\"1\" class=\"dataframe\">\n",
       "  <thead>\n",
       "    <tr style=\"text-align: right;\">\n",
       "      <th></th>\n",
       "      <th>Airline Name</th>\n",
       "      <th>Overall_Rating</th>\n",
       "      <th>Review</th>\n",
       "      <th>Recommended</th>\n",
       "    </tr>\n",
       "  </thead>\n",
       "  <tbody>\n",
       "    <tr>\n",
       "      <th>0</th>\n",
       "      <td>AB Aviation</td>\n",
       "      <td>9</td>\n",
       "      <td>Moroni to Moheli. Turned out to be a pretty decent airline. Online booking worked well, checkin and boarding was fine and the plane looked well maintained. Its a very short flight - just 20 minutes or so so i didn't expect much but they still managed to hand our a bottle of water and some biscuits which i though was very nice. Both flights on time.</td>\n",
       "      <td>yes</td>\n",
       "    </tr>\n",
       "    <tr>\n",
       "      <th>1</th>\n",
       "      <td>AB Aviation</td>\n",
       "      <td>1</td>\n",
       "      <td>Moroni to Anjouan. It is a very small airline. My ticket advised me to turn up at 0800hrs which I did. There was confusion at this small airport. I was then directed to the office of AB Aviation which was still closed. It opened at 0900hrs and I was told that the flight had been put back to 1300hrs and that they had tried to contact me. This could not be true as they did not have my phone number. I was with a local guide and he had not been informed either. I presume that I was bumped off. The later flight did operate but as usual, there was confusion at check-in. The flight was only 30mins and there were no further problems. Not a good airline but it is the only one for Comoros.</td>\n",
       "      <td>no</td>\n",
       "    </tr>\n",
       "    <tr>\n",
       "      <th>2</th>\n",
       "      <td>AB Aviation</td>\n",
       "      <td>1</td>\n",
       "      <td>Anjouan to Dzaoudzi. A very small airline and the only airline based in Comoros. Check-in was disorganised because of locals with big packages and disinterested staff. The flight was fortunately short (30 mins). Took off on time and landed on time. With a short flight like there was of course no in-flight entertainment nor cabin service except for biscuits and a bottle of water, which was quite nice!</td>\n",
       "      <td>no</td>\n",
       "    </tr>\n",
       "    <tr>\n",
       "      <th>3</th>\n",
       "      <td>Adria Airways</td>\n",
       "      <td>1</td>\n",
       "      <td>Please do a favor yourself and do not fly with Adria. On the route from Munich to Pristina in July 2019 they lost my luggage and for 10 days in a row, despite numerous phone calls they were not able to locate it. 11 days later the luggage arrived at the destination completely ruined. Applying for compensation, they ignored my request. Foolishly again, I booked another flight with them (345 euros) Frankfurt - Pristina in September 2019. They cancelled the flight with no reason 24 hours before the departure. Desperate phone calls to customer service to get anything (rerouting, compensation, etc) were not responded. I will never fly again with Adria. What a disgrace! Shame on you Adria for constantly deceiving your customers.</td>\n",
       "      <td>no</td>\n",
       "    </tr>\n",
       "    <tr>\n",
       "      <th>4</th>\n",
       "      <td>Adria Airways</td>\n",
       "      <td>1</td>\n",
       "      <td>Do not book a flight with this airline! My friend and I should have returned from Sofia to Amsterdam on September 22 and 3 days before, they sent us an SMS informing the flight was cancelled. For 3 straight days we tried to reach the airline and the web agent (e-dreams) and we did not get a solution. Finally, 18 hours before our cancelled flight time, and after 35 minutes on a call (waiting), the airline was able to get us on a flight with Lufthansa. Do not book Adria Airways, it is unreliable and in our case, it ruined our last days of holidays since we needed to be on the phones all day.</td>\n",
       "      <td>no</td>\n",
       "    </tr>\n",
       "  </tbody>\n",
       "</table>\n",
       "</div>"
      ],
      "text/plain": [
       "    Airline Name Overall_Rating  \\\n",
       "0    AB Aviation              9   \n",
       "1    AB Aviation              1   \n",
       "2    AB Aviation              1   \n",
       "3  Adria Airways              1   \n",
       "4  Adria Airways              1   \n",
       "\n",
       "                                                                                                                                                                                                                                                                                                                                                                                                                                                                                                                                                                                                                                                                                                                                                           Review  \\\n",
       "0                                                                                                                                                                                                                                                                                                                                                                                                  Moroni to Moheli. Turned out to be a pretty decent airline. Online booking worked well, checkin and boarding was fine and the plane looked well maintained. Its a very short flight - just 20 minutes or so so i didn't expect much but they still managed to hand our a bottle of water and some biscuits which i though was very nice. Both flights on time.   \n",
       "1                                                Moroni to Anjouan. It is a very small airline. My ticket advised me to turn up at 0800hrs which I did. There was confusion at this small airport. I was then directed to the office of AB Aviation which was still closed. It opened at 0900hrs and I was told that the flight had been put back to 1300hrs and that they had tried to contact me. This could not be true as they did not have my phone number. I was with a local guide and he had not been informed either. I presume that I was bumped off. The later flight did operate but as usual, there was confusion at check-in. The flight was only 30mins and there were no further problems. Not a good airline but it is the only one for Comoros.   \n",
       "2                                                                                                                                                                                                                                                                                                                                             Anjouan to Dzaoudzi. A very small airline and the only airline based in Comoros. Check-in was disorganised because of locals with big packages and disinterested staff. The flight was fortunately short (30 mins). Took off on time and landed on time. With a short flight like there was of course no in-flight entertainment nor cabin service except for biscuits and a bottle of water, which was quite nice!   \n",
       "3    Please do a favor yourself and do not fly with Adria. On the route from Munich to Pristina in July 2019 they lost my luggage and for 10 days in a row, despite numerous phone calls they were not able to locate it. 11 days later the luggage arrived at the destination completely ruined. Applying for compensation, they ignored my request. Foolishly again, I booked another flight with them (345 euros) Frankfurt - Pristina in September 2019. They cancelled the flight with no reason 24 hours before the departure. Desperate phone calls to customer service to get anything (rerouting, compensation, etc) were not responded. I will never fly again with Adria. What a disgrace! Shame on you Adria for constantly deceiving your customers.   \n",
       "4                                                                                                                                            Do not book a flight with this airline! My friend and I should have returned from Sofia to Amsterdam on September 22 and 3 days before, they sent us an SMS informing the flight was cancelled. For 3 straight days we tried to reach the airline and the web agent (e-dreams) and we did not get a solution. Finally, 18 hours before our cancelled flight time, and after 35 minutes on a call (waiting), the airline was able to get us on a flight with Lufthansa. Do not book Adria Airways, it is unreliable and in our case, it ruined our last days of holidays since we needed to be on the phones all day.   \n",
       "\n",
       "  Recommended  \n",
       "0         yes  \n",
       "1          no  \n",
       "2          no  \n",
       "3          no  \n",
       "4          no  "
      ]
     },
     "execution_count": 41,
     "metadata": {},
     "output_type": "execute_result"
    }
   ],
   "source": [
    "df_new.head()"
   ]
  },
  {
   "cell_type": "code",
   "execution_count": 43,
   "id": "3642e4d0-3d11-4b51-bf10-8119da158e86",
   "metadata": {},
   "outputs": [],
   "source": [
    "pd.set_option('max_colwidth', 800000)"
   ]
  },
  {
   "cell_type": "code",
   "execution_count": 45,
   "id": "9a840876-05ec-4347-b12f-5077a1d6e8ce",
   "metadata": {},
   "outputs": [
    {
     "data": {
      "text/html": [
       "<div>\n",
       "<style scoped>\n",
       "    .dataframe tbody tr th:only-of-type {\n",
       "        vertical-align: middle;\n",
       "    }\n",
       "\n",
       "    .dataframe tbody tr th {\n",
       "        vertical-align: top;\n",
       "    }\n",
       "\n",
       "    .dataframe thead th {\n",
       "        text-align: right;\n",
       "    }\n",
       "</style>\n",
       "<table border=\"1\" class=\"dataframe\">\n",
       "  <thead>\n",
       "    <tr style=\"text-align: right;\">\n",
       "      <th></th>\n",
       "      <th>Airline Name</th>\n",
       "      <th>Overall_Rating</th>\n",
       "      <th>Review</th>\n",
       "      <th>Recommended</th>\n",
       "    </tr>\n",
       "  </thead>\n",
       "  <tbody>\n",
       "    <tr>\n",
       "      <th>0</th>\n",
       "      <td>AB Aviation</td>\n",
       "      <td>9</td>\n",
       "      <td>Moroni to Moheli. Turned out to be a pretty decent airline. Online booking worked well, checkin and boarding was fine and the plane looked well maintained. Its a very short flight - just 20 minutes or so so i didn't expect much but they still managed to hand our a bottle of water and some biscuits which i though was very nice. Both flights on time.</td>\n",
       "      <td>yes</td>\n",
       "    </tr>\n",
       "    <tr>\n",
       "      <th>1</th>\n",
       "      <td>AB Aviation</td>\n",
       "      <td>1</td>\n",
       "      <td>Moroni to Anjouan. It is a very small airline. My ticket advised me to turn up at 0800hrs which I did. There was confusion at this small airport. I was then directed to the office of AB Aviation which was still closed. It opened at 0900hrs and I was told that the flight had been put back to 1300hrs and that they had tried to contact me. This could not be true as they did not have my phone number. I was with a local guide and he had not been informed either. I presume that I was bumped off. The later flight did operate but as usual, there was confusion at check-in. The flight was only 30mins and there were no further problems. Not a good airline but it is the only one for Comoros.</td>\n",
       "      <td>no</td>\n",
       "    </tr>\n",
       "    <tr>\n",
       "      <th>2</th>\n",
       "      <td>AB Aviation</td>\n",
       "      <td>1</td>\n",
       "      <td>Anjouan to Dzaoudzi. A very small airline and the only airline based in Comoros. Check-in was disorganised because of locals with big packages and disinterested staff. The flight was fortunately short (30 mins). Took off on time and landed on time. With a short flight like there was of course no in-flight entertainment nor cabin service except for biscuits and a bottle of water, which was quite nice!</td>\n",
       "      <td>no</td>\n",
       "    </tr>\n",
       "    <tr>\n",
       "      <th>3</th>\n",
       "      <td>Adria Airways</td>\n",
       "      <td>1</td>\n",
       "      <td>Please do a favor yourself and do not fly with Adria. On the route from Munich to Pristina in July 2019 they lost my luggage and for 10 days in a row, despite numerous phone calls they were not able to locate it. 11 days later the luggage arrived at the destination completely ruined. Applying for compensation, they ignored my request. Foolishly again, I booked another flight with them (345 euros) Frankfurt - Pristina in September 2019. They cancelled the flight with no reason 24 hours before the departure. Desperate phone calls to customer service to get anything (rerouting, compensation, etc) were not responded. I will never fly again with Adria. What a disgrace! Shame on you Adria for constantly deceiving your customers.</td>\n",
       "      <td>no</td>\n",
       "    </tr>\n",
       "    <tr>\n",
       "      <th>4</th>\n",
       "      <td>Adria Airways</td>\n",
       "      <td>1</td>\n",
       "      <td>Do not book a flight with this airline! My friend and I should have returned from Sofia to Amsterdam on September 22 and 3 days before, they sent us an SMS informing the flight was cancelled. For 3 straight days we tried to reach the airline and the web agent (e-dreams) and we did not get a solution. Finally, 18 hours before our cancelled flight time, and after 35 minutes on a call (waiting), the airline was able to get us on a flight with Lufthansa. Do not book Adria Airways, it is unreliable and in our case, it ruined our last days of holidays since we needed to be on the phones all day.</td>\n",
       "      <td>no</td>\n",
       "    </tr>\n",
       "  </tbody>\n",
       "</table>\n",
       "</div>"
      ],
      "text/plain": [
       "    Airline Name Overall_Rating  \\\n",
       "0    AB Aviation              9   \n",
       "1    AB Aviation              1   \n",
       "2    AB Aviation              1   \n",
       "3  Adria Airways              1   \n",
       "4  Adria Airways              1   \n",
       "\n",
       "                                                                                                                                                                                                                                                                                                                                                                                                                                                                                                                                                                                                                                                                                                                                                           Review  \\\n",
       "0                                                                                                                                                                                                                                                                                                                                                                                                  Moroni to Moheli. Turned out to be a pretty decent airline. Online booking worked well, checkin and boarding was fine and the plane looked well maintained. Its a very short flight - just 20 minutes or so so i didn't expect much but they still managed to hand our a bottle of water and some biscuits which i though was very nice. Both flights on time.   \n",
       "1                                                Moroni to Anjouan. It is a very small airline. My ticket advised me to turn up at 0800hrs which I did. There was confusion at this small airport. I was then directed to the office of AB Aviation which was still closed. It opened at 0900hrs and I was told that the flight had been put back to 1300hrs and that they had tried to contact me. This could not be true as they did not have my phone number. I was with a local guide and he had not been informed either. I presume that I was bumped off. The later flight did operate but as usual, there was confusion at check-in. The flight was only 30mins and there were no further problems. Not a good airline but it is the only one for Comoros.   \n",
       "2                                                                                                                                                                                                                                                                                                                                             Anjouan to Dzaoudzi. A very small airline and the only airline based in Comoros. Check-in was disorganised because of locals with big packages and disinterested staff. The flight was fortunately short (30 mins). Took off on time and landed on time. With a short flight like there was of course no in-flight entertainment nor cabin service except for biscuits and a bottle of water, which was quite nice!   \n",
       "3    Please do a favor yourself and do not fly with Adria. On the route from Munich to Pristina in July 2019 they lost my luggage and for 10 days in a row, despite numerous phone calls they were not able to locate it. 11 days later the luggage arrived at the destination completely ruined. Applying for compensation, they ignored my request. Foolishly again, I booked another flight with them (345 euros) Frankfurt - Pristina in September 2019. They cancelled the flight with no reason 24 hours before the departure. Desperate phone calls to customer service to get anything (rerouting, compensation, etc) were not responded. I will never fly again with Adria. What a disgrace! Shame on you Adria for constantly deceiving your customers.   \n",
       "4                                                                                                                                            Do not book a flight with this airline! My friend and I should have returned from Sofia to Amsterdam on September 22 and 3 days before, they sent us an SMS informing the flight was cancelled. For 3 straight days we tried to reach the airline and the web agent (e-dreams) and we did not get a solution. Finally, 18 hours before our cancelled flight time, and after 35 minutes on a call (waiting), the airline was able to get us on a flight with Lufthansa. Do not book Adria Airways, it is unreliable and in our case, it ruined our last days of holidays since we needed to be on the phones all day.   \n",
       "\n",
       "  Recommended  \n",
       "0         yes  \n",
       "1          no  \n",
       "2          no  \n",
       "3          no  \n",
       "4          no  "
      ]
     },
     "execution_count": 45,
     "metadata": {},
     "output_type": "execute_result"
    }
   ],
   "source": [
    "df_new.head()"
   ]
  },
  {
   "cell_type": "code",
   "execution_count": 61,
   "id": "7703e4ab-f492-4d5d-b718-f5a5d8a9ec73",
   "metadata": {},
   "outputs": [
    {
     "data": {
      "text/plain": [
       "Airline Name\n",
       "Caribbean Airlines     100\n",
       "GoAir                  100\n",
       "Germanwings            100\n",
       "Philippine Airlines    100\n",
       "Bangkok Airways        100\n",
       "Garuda Indonesia       100\n",
       "Batik Air              100\n",
       "Swoop                  100\n",
       "Frontier Airlines      100\n",
       "Sunwing Airlines       100\n",
       "Name: count, dtype: int64"
      ]
     },
     "execution_count": 61,
     "metadata": {},
     "output_type": "execute_result"
    }
   ],
   "source": [
    "df_new[\"Airline Name\"].value_counts().head(10)"
   ]
  },
  {
   "cell_type": "code",
   "execution_count": null,
   "id": "105a3fb0-cdcb-4672-94cb-7c2d87607903",
   "metadata": {},
   "outputs": [],
   "source": [
    "df_new.Overall_Rating.value_counts()"
   ]
  },
  {
   "cell_type": "code",
   "execution_count": 49,
   "id": "2bd4d31e-d843-471f-8f02-438bca274a06",
   "metadata": {},
   "outputs": [
    {
     "name": "stdout",
     "output_type": "stream",
     "text": [
      "<class 'pandas.core.frame.DataFrame'>\n",
      "RangeIndex: 23171 entries, 0 to 23170\n",
      "Data columns (total 4 columns):\n",
      " #   Column          Non-Null Count  Dtype \n",
      "---  ------          --------------  ----- \n",
      " 0   Airline Name    23171 non-null  object\n",
      " 1   Overall_Rating  23171 non-null  object\n",
      " 2   Review          23171 non-null  object\n",
      " 3   Recommended     23171 non-null  object\n",
      "dtypes: object(4)\n",
      "memory usage: 724.2+ KB\n"
     ]
    }
   ],
   "source": [
    "df_new.info()"
   ]
  },
  {
   "cell_type": "code",
   "execution_count": 29,
   "id": "8f99d0f2-31ed-4608-8a70-2ceaa0705aa9",
   "metadata": {},
   "outputs": [
    {
     "name": "stderr",
     "output_type": "stream",
     "text": [
      "C:\\Users\\soura\\AppData\\Local\\Temp\\ipykernel_13396\\3158483211.py:3: FutureWarning: \n",
      "\n",
      "Passing `palette` without assigning `hue` is deprecated and will be removed in v0.14.0. Assign the `y` variable to `hue` and set `legend=False` for the same effect.\n",
      "\n",
      "  sns.countplot(y=\"Overall_Rating\" , palette=\"Set3\", data=df_new, order = df_new['Overall_Rating'].value_counts().index);\n"
     ]
    },
    {
     "data": {
      "image/png": "[encoded data removed]",
      "text/plain": [
       "<Figure size 800x600 with 1 Axes>"
      ]
     },
     "metadata": {},
     "output_type": "display_data"
    }
   ],
   "source": [
    "import seaborn as sns\n",
    "plt.figure(figsize=(8,6))\n",
    "sns.countplot(y=\"Overall_Rating\" , palette=\"Set3\", data=df_new, order = df_new['Overall_Rating'].value_counts().index);\n",
    "plt.show()"
   ]
  },
  {
   "cell_type": "code",
   "execution_count": 67,
   "id": "a533e433-0648-4ff0-87b7-418c4269ef76",
   "metadata": {},
   "outputs": [
    {
     "name": "stderr",
     "output_type": "stream",
     "text": [
      "C:\\Users\\soura\\AppData\\Local\\Temp\\ipykernel_13396\\1738967606.py:2: FutureWarning: \n",
      "\n",
      "Passing `palette` without assigning `hue` is deprecated and will be removed in v0.14.0. Assign the `y` variable to `hue` and set `legend=False` for the same effect.\n",
      "\n",
      "  sns.countplot(y=\"Airline Name\" , palette=\"Set3\", data=df_new, order = df_new['Airline Name'].value_counts().head(5).index);\n"
     ]
    },
    {
     "data": {
      "image/png": "[encoded data removed]",
      "text/plain": [
       "<Figure size 800x600 with 1 Axes>"
      ]
     },
     "metadata": {},
     "output_type": "display_data"
    }
   ],
   "source": [
    "plt.figure(figsize=(8,6))\n",
    "sns.countplot(y=\"Airline Name\" , palette=\"Set3\", data=df_new, order = df_new['Airline Name'].value_counts().head(5).index);\n",
    "plt.show()"
   ]
  },
  {
   "cell_type": "code",
   "execution_count": 33,
   "id": "c89ac6cc-26ee-440f-84f2-98e62a805cb5",
   "metadata": {},
   "outputs": [
    {
     "data": {
      "text/plain": [
       "' We took 3 flights with Aegean and would not recommend them to anyone. Had 3 issues: 1. They overbooked our flight and bumped many people. We bought our flight 3 months ahead, but checked in about 18 hours before our flight (they allow check-in up to 24 hours ahead). We were issued a “standby” ticket without any seats. When we got to the gate, we were told we may or may not get onto the flight and if we didn’t then we would have to wait 4 hours for the late night flight, or try again in the morning. Lots of other people in the same situation. We were never issued boarding passes but we kept following up with the person at the ticket counter until they gave us passes, it seems like due to our persistence and nothing systematic. Luckily we got on that flight, but others didn’t. Nowhere in the policy does it say that whether or not you get on the flight is related to your check-in time. If you take Aegean, check in right away and be persistent about asking for seats! 2. They apply a checked bag policy at will. We were sitting near the gate. The gate attendants approached us and asked to weigh our bags. Our bags, which fit easily into any overhead bin (including previous Aegean flights) were found to be slightly overweight (apparently 9kgs are allowed, ours were about 10kgs). We asked if we could move 1kg into our purse / backpack. They said no, they need to check the two bags, and by the way they are charging us 40Euro per bag. This was for a 45 min flight from an island to Athens. We had no choice and were forced to pay. Also, there was no consistency in the way this rule was applied. We saw plenty of other people with carry-ons larger than ours allowed on the plane and there was plenty of space in the overhead bins. 3. Every flight we were on was late. Two of three were late by over 45 mins. We didn’t have any connections, but I imagine many connecting flights were missed. And, this didn’t happen to us, but it’s worth noting that when we landed in Athens, there were about 30 people waiting at the lost baggage desk. Most of them looked very angry. I asked one person what happened, and apparently an entire flight did not have their bags transferred at a connection. So not only will they force you to check your carry-on and then pay for a checked bag, they might lose it too. All-in-all, this is a pretty bad track record for 3 short island hop flights.'"
      ]
     },
     "execution_count": 33,
     "metadata": {},
     "output_type": "execute_result"
    }
   ],
   "source": [
    "df_new[\"Review\"][100]"
   ]
  },
  {
   "cell_type": "code",
   "execution_count": 35,
   "id": "99a587b2-b033-4785-a3c2-87d135b64016",
   "metadata": {},
   "outputs": [
    {
     "name": "stdout",
     "output_type": "stream",
     "text": [
      "!\"#$%&'()*+,-./:;<=>?@[\\]^_`{|}~\n"
     ]
    }
   ],
   "source": [
    "from string import punctuation\n",
    "print(punctuation)"
   ]
  },
  {
   "cell_type": "code",
   "execution_count": 81,
   "id": "884200db-21e0-46b1-818a-d7f0b62890e1",
   "metadata": {},
   "outputs": [
    {
     "name": "stderr",
     "output_type": "stream",
     "text": [
      "<>:3: SyntaxWarning: invalid escape sequence '\\]'\n",
      "<>:5: SyntaxWarning: invalid escape sequence '\\s'\n",
      "<>:3: SyntaxWarning: invalid escape sequence '\\]'\n",
      "<>:5: SyntaxWarning: invalid escape sequence '\\s'\n",
      "C:\\Users\\soura\\AppData\\Local\\Temp\\ipykernel_13396\\520769558.py:3: SyntaxWarning: invalid escape sequence '\\]'\n",
      "  reviewText = re.sub('[%s]' % re.escape(\"\"\"!\"#$%&'()*+,-./:;<=>?@[\\]^_`{|}~\"\"\"), ' ', reviewText)  # remove punctuations\n",
      "C:\\Users\\soura\\AppData\\Local\\Temp\\ipykernel_13396\\520769558.py:5: SyntaxWarning: invalid escape sequence '\\s'\n",
      "  reviewText = re.sub('\\s+', ' ', reviewText)  # remove extra whitespace\n"
     ]
    },
    {
     "data": {
      "text/html": [
       "<div>\n",
       "<style scoped>\n",
       "    .dataframe tbody tr th:only-of-type {\n",
       "        vertical-align: middle;\n",
       "    }\n",
       "\n",
       "    .dataframe tbody tr th {\n",
       "        vertical-align: top;\n",
       "    }\n",
       "\n",
       "    .dataframe thead th {\n",
       "        text-align: right;\n",
       "    }\n",
       "</style>\n",
       "<table border=\"1\" class=\"dataframe\">\n",
       "  <thead>\n",
       "    <tr style=\"text-align: right;\">\n",
       "      <th></th>\n",
       "      <th>Airline Name</th>\n",
       "      <th>Overall_Rating</th>\n",
       "      <th>Review</th>\n",
       "      <th>Recommended</th>\n",
       "      <th>Cleaned Review</th>\n",
       "    </tr>\n",
       "  </thead>\n",
       "  <tbody>\n",
       "    <tr>\n",
       "      <th>0</th>\n",
       "      <td>AB Aviation</td>\n",
       "      <td>9</td>\n",
       "      <td>Moroni to Moheli. Turned out to be a pretty decent airline. Online booking worked well, checkin and boarding was fine and the plane looked well maintained. Its a very short flight - just 20 minutes or so so i didn't expect much but they still managed to hand our a bottle of water and some biscuits which i though was very nice. Both flights on time.</td>\n",
       "      <td>yes</td>\n",
       "      <td>moroni to moheli turned out to be a pretty decent airline online booking worked well checkin and boarding was fine and the plane looked well maintained its a very short flight just  minutes or so so i didn t expect much but they still managed to hand our a bottle of water and some biscuits which i though was very nice both flights on time</td>\n",
       "    </tr>\n",
       "    <tr>\n",
       "      <th>1</th>\n",
       "      <td>AB Aviation</td>\n",
       "      <td>1</td>\n",
       "      <td>Moroni to Anjouan. It is a very small airline. My ticket advised me to turn up at 0800hrs which I did. There was confusion at this small airport. I was then directed to the office of AB Aviation which was still closed. It opened at 0900hrs and I was told that the flight had been put back to 1300hrs and that they had tried to contact me. This could not be true as they did not have my phone number. I was with a local guide and he had not been informed either. I presume that I was bumped off. The later flight did operate but as usual, there was confusion at check-in. The flight was only 30mins and there were no further problems. Not a good airline but it is the only one for Comoros.</td>\n",
       "      <td>no</td>\n",
       "      <td>moroni to anjouan it is a very small airline my ticket advised me to turn up at hrs which i did there was confusion at this small airport i was then directed to the office of ab aviation which was still closed it opened at hrs and i was told that the flight had been put back to hrs and that they had tried to contact me this could not be true as they did not have my phone number i was with a local guide and he had not been informed either i presume that i was bumped off the later flight did operate but as usual there was confusion at check in the flight was only mins and there were no further problems not a good airline but it is the only one for comoros</td>\n",
       "    </tr>\n",
       "    <tr>\n",
       "      <th>2</th>\n",
       "      <td>AB Aviation</td>\n",
       "      <td>1</td>\n",
       "      <td>Anjouan to Dzaoudzi. A very small airline and the only airline based in Comoros. Check-in was disorganised because of locals with big packages and disinterested staff. The flight was fortunately short (30 mins). Took off on time and landed on time. With a short flight like there was of course no in-flight entertainment nor cabin service except for biscuits and a bottle of water, which was quite nice!</td>\n",
       "      <td>no</td>\n",
       "      <td>anjouan to dzaoudzi a very small airline and the only airline based in comoros check in was disorganised because of locals with big packages and disinterested staff the flight was fortunately short  mins took off on time and landed on time with a short flight like there was of course no in flight entertainment nor cabin service except for biscuits and a bottle of water which was quite nice</td>\n",
       "    </tr>\n",
       "    <tr>\n",
       "      <th>3</th>\n",
       "      <td>Adria Airways</td>\n",
       "      <td>1</td>\n",
       "      <td>Please do a favor yourself and do not fly with Adria. On the route from Munich to Pristina in July 2019 they lost my luggage and for 10 days in a row, despite numerous phone calls they were not able to locate it. 11 days later the luggage arrived at the destination completely ruined. Applying for compensation, they ignored my request. Foolishly again, I booked another flight with them (345 euros) Frankfurt - Pristina in September 2019. They cancelled the flight with no reason 24 hours before the departure. Desperate phone calls to customer service to get anything (rerouting, compensation, etc) were not responded. I will never fly again with Adria. What a disgrace! Shame on you Adria for constantly deceiving your customers.</td>\n",
       "      <td>no</td>\n",
       "      <td>please do a favor yourself and do not fly with adria on the route from munich to pristina in july  they lost my luggage and for  days in a row despite numerous phone calls they were not able to locate it  days later the luggage arrived at the destination completely ruined applying for compensation they ignored my request foolishly again i booked another flight with them  euros frankfurt pristina in september  they cancelled the flight with no reason  hours before the departure desperate phone calls to customer service to get anything rerouting compensation etc were not responded i will never fly again with adria what a disgrace shame on you adria for constantly deceiving your customers</td>\n",
       "    </tr>\n",
       "    <tr>\n",
       "      <th>4</th>\n",
       "      <td>Adria Airways</td>\n",
       "      <td>1</td>\n",
       "      <td>Do not book a flight with this airline! My friend and I should have returned from Sofia to Amsterdam on September 22 and 3 days before, they sent us an SMS informing the flight was cancelled. For 3 straight days we tried to reach the airline and the web agent (e-dreams) and we did not get a solution. Finally, 18 hours before our cancelled flight time, and after 35 minutes on a call (waiting), the airline was able to get us on a flight with Lufthansa. Do not book Adria Airways, it is unreliable and in our case, it ruined our last days of holidays since we needed to be on the phones all day.</td>\n",
       "      <td>no</td>\n",
       "      <td>do not book a flight with this airline my friend and i should have returned from sofia to amsterdam on september  and  days before they sent us an sms informing the flight was cancelled for  straight days we tried to reach the airline and the web agent e dreams and we did not get a solution finally  hours before our cancelled flight time and after  minutes on a call waiting the airline was able to get us on a flight with lufthansa do not book adria airways it is unreliable and in our case it ruined our last days of holidays since we needed to be on the phones all day</td>\n",
       "    </tr>\n",
       "  </tbody>\n",
       "</table>\n",
       "</div>"
      ],
      "text/plain": [
       "    Airline Name Overall_Rating  \\\n",
       "0    AB Aviation              9   \n",
       "1    AB Aviation              1   \n",
       "2    AB Aviation              1   \n",
       "3  Adria Airways              1   \n",
       "4  Adria Airways              1   \n",
       "\n",
       "                                                                                                                                                                                                                                                                                                                                                                                                                                                                                                                                                                                                                                                                                                                                                           Review  \\\n",
       "0                                                                                                                                                                                                                                                                                                                                                                                                  Moroni to Moheli. Turned out to be a pretty decent airline. Online booking worked well, checkin and boarding was fine and the plane looked well maintained. Its a very short flight - just 20 minutes or so so i didn't expect much but they still managed to hand our a bottle of water and some biscuits which i though was very nice. Both flights on time.   \n",
       "1                                                Moroni to Anjouan. It is a very small airline. My ticket advised me to turn up at 0800hrs which I did. There was confusion at this small airport. I was then directed to the office of AB Aviation which was still closed. It opened at 0900hrs and I was told that the flight had been put back to 1300hrs and that they had tried to contact me. This could not be true as they did not have my phone number. I was with a local guide and he had not been informed either. I presume that I was bumped off. The later flight did operate but as usual, there was confusion at check-in. The flight was only 30mins and there were no further problems. Not a good airline but it is the only one for Comoros.   \n",
       "2                                                                                                                                                                                                                                                                                                                                             Anjouan to Dzaoudzi. A very small airline and the only airline based in Comoros. Check-in was disorganised because of locals with big packages and disinterested staff. The flight was fortunately short (30 mins). Took off on time and landed on time. With a short flight like there was of course no in-flight entertainment nor cabin service except for biscuits and a bottle of water, which was quite nice!   \n",
       "3    Please do a favor yourself and do not fly with Adria. On the route from Munich to Pristina in July 2019 they lost my luggage and for 10 days in a row, despite numerous phone calls they were not able to locate it. 11 days later the luggage arrived at the destination completely ruined. Applying for compensation, they ignored my request. Foolishly again, I booked another flight with them (345 euros) Frankfurt - Pristina in September 2019. They cancelled the flight with no reason 24 hours before the departure. Desperate phone calls to customer service to get anything (rerouting, compensation, etc) were not responded. I will never fly again with Adria. What a disgrace! Shame on you Adria for constantly deceiving your customers.   \n",
       "4                                                                                                                                            Do not book a flight with this airline! My friend and I should have returned from Sofia to Amsterdam on September 22 and 3 days before, they sent us an SMS informing the flight was cancelled. For 3 straight days we tried to reach the airline and the web agent (e-dreams) and we did not get a solution. Finally, 18 hours before our cancelled flight time, and after 35 minutes on a call (waiting), the airline was able to get us on a flight with Lufthansa. Do not book Adria Airways, it is unreliable and in our case, it ruined our last days of holidays since we needed to be on the phones all day.   \n",
       "\n",
       "  Recommended  \\\n",
       "0         yes   \n",
       "1          no   \n",
       "2          no   \n",
       "3          no   \n",
       "4          no   \n",
       "\n",
       "                                                                                                                                                                                                                                                                                                                                                                                                                                                                                                                                                                                                                                                                                                             Cleaned Review  \n",
       "0                                                                                                                                                                                                                                                                                                                                                                     moroni to moheli turned out to be a pretty decent airline online booking worked well checkin and boarding was fine and the plane looked well maintained its a very short flight just  minutes or so so i didn t expect much but they still managed to hand our a bottle of water and some biscuits which i though was very nice both flights on time   \n",
       "1                                    moroni to anjouan it is a very small airline my ticket advised me to turn up at hrs which i did there was confusion at this small airport i was then directed to the office of ab aviation which was still closed it opened at hrs and i was told that the flight had been put back to hrs and that they had tried to contact me this could not be true as they did not have my phone number i was with a local guide and he had not been informed either i presume that i was bumped off the later flight did operate but as usual there was confusion at check in the flight was only mins and there were no further problems not a good airline but it is the only one for comoros   \n",
       "2                                                                                                                                                                                                                                                                                                                 anjouan to dzaoudzi a very small airline and the only airline based in comoros check in was disorganised because of locals with big packages and disinterested staff the flight was fortunately short  mins took off on time and landed on time with a short flight like there was of course no in flight entertainment nor cabin service except for biscuits and a bottle of water which was quite nice   \n",
       "3   please do a favor yourself and do not fly with adria on the route from munich to pristina in july  they lost my luggage and for  days in a row despite numerous phone calls they were not able to locate it  days later the luggage arrived at the destination completely ruined applying for compensation they ignored my request foolishly again i booked another flight with them  euros frankfurt pristina in september  they cancelled the flight with no reason  hours before the departure desperate phone calls to customer service to get anything rerouting compensation etc were not responded i will never fly again with adria what a disgrace shame on you adria for constantly deceiving your customers   \n",
       "4                                                                                                                            do not book a flight with this airline my friend and i should have returned from sofia to amsterdam on september  and  days before they sent us an sms informing the flight was cancelled for  straight days we tried to reach the airline and the web agent e dreams and we did not get a solution finally  hours before our cancelled flight time and after  minutes on a call waiting the airline was able to get us on a flight with lufthansa do not book adria airways it is unreliable and in our case it ruined our last days of holidays since we needed to be on the phones all day   "
      ]
     },
     "execution_count": 81,
     "metadata": {},
     "output_type": "execute_result"
    }
   ],
   "source": [
    "import re\n",
    "def cleanReview(reviewText):\n",
    "    reviewText = re.sub('[%s]' % re.escape(\"\"\"!\"#$%&'()*+,-./:;<=>?@[\\]^_`{|}~\"\"\"), ' ', reviewText)  # remove punctuations\n",
    "    reviewText = re.sub(r'[^\\x00-\\x7f]',r' ', reviewText) # remove non-ascii characters\n",
    "    reviewText = re.sub('\\s+', ' ', reviewText)  # remove extra whitespace\n",
    "    reviewText = re.sub(r'[0-9]+', '', reviewText)  #remove numbers\n",
    "    return reviewText.lower()\n",
    "\n",
    "df_new[\"Cleaned Review\"] = df_new[\"Review\"].apply(lambda x: cleanReview(x))\n",
    "df_new.head()"
   ]
  },
  {
   "cell_type": "code",
   "execution_count": 69,
   "id": "f8a86348-5306-4e54-8c45-146deb79ccfa",
   "metadata": {},
   "outputs": [
    {
     "data": {
      "text/plain": [
       "198"
      ]
     },
     "execution_count": 69,
     "metadata": {},
     "output_type": "execute_result"
    }
   ],
   "source": [
    "import nltk\n",
    "#nltk.download('stopwords')\n",
    "import string\n",
    "from nltk.corpus import stopwords\n",
    "from nltk import word_tokenize\n",
    "len(stopwords.words('english'))"
   ]
  },
  {
   "cell_type": "code",
   "execution_count": 83,
   "id": "afeb88a2-c091-497a-af9d-6c7d71e4fdf8",
   "metadata": {},
   "outputs": [
    {
     "data": {
      "text/html": [
       "<div>\n",
       "<style scoped>\n",
       "    .dataframe tbody tr th:only-of-type {\n",
       "        vertical-align: middle;\n",
       "    }\n",
       "\n",
       "    .dataframe tbody tr th {\n",
       "        vertical-align: top;\n",
       "    }\n",
       "\n",
       "    .dataframe thead th {\n",
       "        text-align: right;\n",
       "    }\n",
       "</style>\n",
       "<table border=\"1\" class=\"dataframe\">\n",
       "  <thead>\n",
       "    <tr style=\"text-align: right;\">\n",
       "      <th></th>\n",
       "      <th>Airline Name</th>\n",
       "      <th>Overall_Rating</th>\n",
       "      <th>Review</th>\n",
       "      <th>Recommended</th>\n",
       "      <th>Cleaned Review</th>\n",
       "    </tr>\n",
       "  </thead>\n",
       "  <tbody>\n",
       "    <tr>\n",
       "      <th>10557</th>\n",
       "      <td>GoAir</td>\n",
       "      <td>1</td>\n",
       "      <td>They Simply cancelled the flight. Which affects all my vacation plan. No proper response from the airline team. When I tried to change the date of they are asking for fresh payment.</td>\n",
       "      <td>no</td>\n",
       "      <td>they simply cancelled the flight which affects all my vacation plan no proper response from the airline team when i tried to change the date of they are asking for fresh payment</td>\n",
       "    </tr>\n",
       "    <tr>\n",
       "      <th>10558</th>\n",
       "      <td>GoAir</td>\n",
       "      <td>1</td>\n",
       "      <td>Pathetic front desk, impolite and worst staff experience at Mangalore airport. Feels like we are approaching a local bus station. Need to review, change your staff or else continue having these arrogant, rude staff. As a frequent flyer on other airlines I have never had this kind of experience.</td>\n",
       "      <td>no</td>\n",
       "      <td>pathetic front desk impolite and worst staff experience at mangalore airport feels like we are approaching a local bus station need to review change your staff or else continue having these arrogant rude staff as a frequent flyer on other airlines i have never had this kind of experience</td>\n",
       "    </tr>\n",
       "    <tr>\n",
       "      <th>10559</th>\n",
       "      <td>GoAir</td>\n",
       "      <td>1</td>\n",
       "      <td>Worst Airline ever I have come across so far, extremely disappointed with the service. I had to travel to Patna on Monday 09/08/2021 for which the ticket was booked 1 month in advance. The day of travel, I visited the Airport by spending Rs.1000 in Cab for 50kms. After reaching the Airport the authorities said flight has been cancelled by the Airline. It was so shocking for me that how irresponsible the Go First airlines are to not even having basic work ethics about informing the customer about it. I was told they had sent email, now tell me person who need to reach the airport at 8:00 in the morning will sleep by 10pm to wake up early or be waiting and reading the emails and messages till late night. No concern to at least call the customer and inform about the cancellation. Secondly, I was informed at the Go First counter on the same day 09/08/2021, that full amount will be refunded within 5 days which is yet not over for them I think. Today I happened to call them and check the refund status they said it will take 30 days for the refund and will go to MMT then I need to contact them to get the refund and there will be service charges it seems.</td>\n",
       "      <td>no</td>\n",
       "      <td>worst airline ever i have come across so far extremely disappointed with the service i had to travel to patna on monday    for which the ticket was booked  month in advance the day of travel i visited the airport by spending rs  in cab for kms after reaching the airport the authorities said flight has been cancelled by the airline it was so shocking for me that how irresponsible the go first airlines are to not even having basic work ethics about informing the customer about it i was told they had sent email now tell me person who need to reach the airport at   in the morning will sleep by pm to wake up early or be waiting and reading the emails and messages till late night no concern to at least call the customer and inform about the cancellation secondly i was informed at the go first counter on the same day    that full amount will be refunded within  days which is yet not over for them i think today i happened to call them and check the refund status they said it will take  days for the refund and will go to mmt then i need to contact them to get the refund and there will be service charges it seems</td>\n",
       "    </tr>\n",
       "    <tr>\n",
       "      <th>10560</th>\n",
       "      <td>GoAir</td>\n",
       "      <td>1</td>\n",
       "      <td>I arrived early for my scheduled flight Kochi to Srinagar via Mumbai. It was scheduled at 1030am but I landed at Mumbai 1030. Due to that I couldn't board my flight. The airline clearly knows the landing time and I'm going to miss my connection flight, but I have not received any single call regarding this even your staff could have inform me during checking. I visited the help desk for the issue they said no more flights for today, and tomorrows flight's also cancelled. Next day I booked indigo flight to the destination from my pocket. Go Air is worst airline, they treat their passengers like fools.</td>\n",
       "      <td>no</td>\n",
       "      <td>i arrived early for my scheduled flight kochi to srinagar via mumbai it was scheduled at am but i landed at mumbai  due to that i couldn t board my flight the airline clearly knows the landing time and i m going to miss my connection flight but i have not received any single call regarding this even your staff could have inform me during checking i visited the help desk for the issue they said no more flights for today and tomorrows flight s also cancelled next day i booked indigo flight to the destination from my pocket go air is worst airline they treat their passengers like fools</td>\n",
       "    </tr>\n",
       "    <tr>\n",
       "      <th>10561</th>\n",
       "      <td>GoAir</td>\n",
       "      <td>1</td>\n",
       "      <td>I booked a flight on August 2nd for 4 members (Myself, wife, 2 kids). I was very happy to see a fight which was departing early from Bangalore to Jaipur. However 3 days before travel, the flight was rescheduled at 11:30 AM. After a day, It was rescheduled for 11:00 AM. Actually, I booked this flight so that I could reach Jaipur early and then drive from Jaipur to Hanumangarh. One day before the travel, it was rescheduled at 3:30 PM. In the airport, Flight was again delayed and left around 4: 20 PM. Because of this inconvenience, we had to stay in Jaipur and leave next day morning. I had specially spoken to Customer care regarding travelling with 2 small kids and they agreed to put our cabin baggage to checkin baggage as one luggage by hearing about our travel. However, on the airport counter, the lady said i cannot do so and need to speak with customer care. \"Sir, if you have issue, you need to submit a complaint.\" From my side, I was totally helpless by hearing from their side. Frankly, they need to have a uniformity regarding their rules and regulation. If they agreed anything through customer support, they need to update that on my booking. Anyways, after a long struggle and repeated requests, they agreed. Personally, This was my first and last time I travelled on GoAir.</td>\n",
       "      <td>no</td>\n",
       "      <td>i booked a flight on august nd for  members myself wife  kids i was very happy to see a fight which was departing early from bangalore to jaipur however  days before travel the flight was rescheduled at   am after a day it was rescheduled for   am actually i booked this flight so that i could reach jaipur early and then drive from jaipur to hanumangarh one day before the travel it was rescheduled at   pm in the airport flight was again delayed and left around   pm because of this inconvenience we had to stay in jaipur and leave next day morning i had specially spoken to customer care regarding travelling with  small kids and they agreed to put our cabin baggage to checkin baggage as one luggage by hearing about our travel however on the airport counter the lady said i cannot do so and need to speak with customer care sir if you have issue you need to submit a complaint from my side i was totally helpless by hearing from their side frankly they need to have a uniformity regarding their rules and regulation if they agreed anything through customer support they need to update that on my booking anyways after a long struggle and repeated requests they agreed personally this was my first and last time i travelled on goair</td>\n",
       "    </tr>\n",
       "  </tbody>\n",
       "</table>\n",
       "</div>"
      ],
      "text/plain": [
       "      Airline Name Overall_Rating  \\\n",
       "10557        GoAir              1   \n",
       "10558        GoAir              1   \n",
       "10559        GoAir              1   \n",
       "10560        GoAir              1   \n",
       "10561        GoAir              1   \n",
       "\n",
       "                                                                                                                                                                                                                                                                                                                                                                                                                                                                                                                                                                                                                                                                                                                                                                                                                                                                                                                                                                                                                                                                                                                                                                                                                                                                                                                                                  Review  \\\n",
       "10557                                                                                                                                                                                                                                                                                                                                                                                                                                                                                                                                                                                                                                                                                                                                                                                                                                                                                                                                                                                                                                                                                                                                                              They Simply cancelled the flight. Which affects all my vacation plan. No proper response from the airline team. When I tried to change the date of they are asking for fresh payment.   \n",
       "10558                                                                                                                                                                                                                                                                                                                                                                                                                                                                                                                                                                                                                                                                                                                                                                                                                                                                                                                                                                                                                                           Pathetic front desk, impolite and worst staff experience at Mangalore airport. Feels like we are approaching a local bus station. Need to review, change your staff or else continue having these arrogant, rude staff. As a frequent flyer on other airlines I have never had this kind of experience.    \n",
       "10559                                                                                                                                     Worst Airline ever I have come across so far, extremely disappointed with the service. I had to travel to Patna on Monday 09/08/2021 for which the ticket was booked 1 month in advance. The day of travel, I visited the Airport by spending Rs.1000 in Cab for 50kms. After reaching the Airport the authorities said flight has been cancelled by the Airline. It was so shocking for me that how irresponsible the Go First airlines are to not even having basic work ethics about informing the customer about it. I was told they had sent email, now tell me person who need to reach the airport at 8:00 in the morning will sleep by 10pm to wake up early or be waiting and reading the emails and messages till late night. No concern to at least call the customer and inform about the cancellation. Secondly, I was informed at the Go First counter on the same day 09/08/2021, that full amount will be refunded within 5 days which is yet not over for them I think. Today I happened to call them and check the refund status they said it will take 30 days for the refund and will go to MMT then I need to contact them to get the refund and there will be service charges it seems.    \n",
       "10560                                                                                                                                                                                                                                                                                                                                                                                                                                                                                                                                                                                                                                                                                                                    I arrived early for my scheduled flight Kochi to Srinagar via Mumbai. It was scheduled at 1030am but I landed at Mumbai 1030. Due to that I couldn't board my flight. The airline clearly knows the landing time and I'm going to miss my connection flight, but I have not received any single call regarding this even your staff could have inform me during checking. I visited the help desk for the issue they said no more flights for today, and tomorrows flight's also cancelled. Next day I booked indigo flight to the destination from my pocket. Go Air is worst airline, they treat their passengers like fools.   \n",
       "10561    I booked a flight on August 2nd for 4 members (Myself, wife, 2 kids). I was very happy to see a fight which was departing early from Bangalore to Jaipur. However 3 days before travel, the flight was rescheduled at 11:30 AM. After a day, It was rescheduled for 11:00 AM. Actually, I booked this flight so that I could reach Jaipur early and then drive from Jaipur to Hanumangarh. One day before the travel, it was rescheduled at 3:30 PM. In the airport, Flight was again delayed and left around 4: 20 PM. Because of this inconvenience, we had to stay in Jaipur and leave next day morning. I had specially spoken to Customer care regarding travelling with 2 small kids and they agreed to put our cabin baggage to checkin baggage as one luggage by hearing about our travel. However, on the airport counter, the lady said i cannot do so and need to speak with customer care. \"Sir, if you have issue, you need to submit a complaint.\" From my side, I was totally helpless by hearing from their side. Frankly, they need to have a uniformity regarding their rules and regulation. If they agreed anything through customer support, they need to update that on my booking. Anyways, after a long struggle and repeated requests, they agreed. Personally, This was my first and last time I travelled on GoAir.    \n",
       "\n",
       "      Recommended  \\\n",
       "10557          no   \n",
       "10558          no   \n",
       "10559          no   \n",
       "10560          no   \n",
       "10561          no   \n",
       "\n",
       "                                                                                                                                                                                                                                                                                                                                                                                                                                                                                                                                                                                                                                                                                                                                                                                                                                                                                                                                                                                                                                                                                                                                                                                                                                                                               Cleaned Review  \n",
       "10557                                                                                                                                                                                                                                                                                                                                                                                                                                                                                                                                                                                                                                                                                                                                                                                                                                                                                                                                                                                                                                                                                                      they simply cancelled the flight which affects all my vacation plan no proper response from the airline team when i tried to change the date of they are asking for fresh payment   \n",
       "10558                                                                                                                                                                                                                                                                                                                                                                                                                                                                                                                                                                                                                                                                                                                                                                                                                                                                                                                                                                                       pathetic front desk impolite and worst staff experience at mangalore airport feels like we are approaching a local bus station need to review change your staff or else continue having these arrogant rude staff as a frequent flyer on other airlines i have never had this kind of experience   \n",
       "10559                                                                                                                       worst airline ever i have come across so far extremely disappointed with the service i had to travel to patna on monday    for which the ticket was booked  month in advance the day of travel i visited the airport by spending rs  in cab for kms after reaching the airport the authorities said flight has been cancelled by the airline it was so shocking for me that how irresponsible the go first airlines are to not even having basic work ethics about informing the customer about it i was told they had sent email now tell me person who need to reach the airport at   in the morning will sleep by pm to wake up early or be waiting and reading the emails and messages till late night no concern to at least call the customer and inform about the cancellation secondly i was informed at the go first counter on the same day    that full amount will be refunded within  days which is yet not over for them i think today i happened to call them and check the refund status they said it will take  days for the refund and will go to mmt then i need to contact them to get the refund and there will be service charges it seems   \n",
       "10560                                                                                                                                                                                                                                                                                                                                                                                                                                                                                                                                                                                                                                                                          i arrived early for my scheduled flight kochi to srinagar via mumbai it was scheduled at am but i landed at mumbai  due to that i couldn t board my flight the airline clearly knows the landing time and i m going to miss my connection flight but i have not received any single call regarding this even your staff could have inform me during checking i visited the help desk for the issue they said no more flights for today and tomorrows flight s also cancelled next day i booked indigo flight to the destination from my pocket go air is worst airline they treat their passengers like fools   \n",
       "10561   i booked a flight on august nd for  members myself wife  kids i was very happy to see a fight which was departing early from bangalore to jaipur however  days before travel the flight was rescheduled at   am after a day it was rescheduled for   am actually i booked this flight so that i could reach jaipur early and then drive from jaipur to hanumangarh one day before the travel it was rescheduled at   pm in the airport flight was again delayed and left around   pm because of this inconvenience we had to stay in jaipur and leave next day morning i had specially spoken to customer care regarding travelling with  small kids and they agreed to put our cabin baggage to checkin baggage as one luggage by hearing about our travel however on the airport counter the lady said i cannot do so and need to speak with customer care sir if you have issue you need to submit a complaint from my side i was totally helpless by hearing from their side frankly they need to have a uniformity regarding their rules and regulation if they agreed anything through customer support they need to update that on my booking anyways after a long struggle and repeated requests they agreed personally this was my first and last time i travelled on goair   "
      ]
     },
     "execution_count": 83,
     "metadata": {},
     "output_type": "execute_result"
    }
   ],
   "source": [
    "GoAir_df = df_new[df_new[\"Airline Name\"] == 'GoAir']\n",
    "GoAir_df.head()"
   ]
  },
  {
   "cell_type": "code",
   "execution_count": 124,
   "id": "7c7f1cd2-e148-4c74-bb29-d8302fbfbe8a",
   "metadata": {},
   "outputs": [
    {
     "data": {
      "text/plain": [
       "''"
      ]
     },
     "execution_count": 124,
     "metadata": {},
     "output_type": "execute_result"
    }
   ],
   "source": [
    "reviews=\"\"\n",
    "total_words = []\n",
    "for review in GoAir_df[\"Cleaned Review\"]:\n",
    "    reviews += reviews\n",
    "    words = word_tokenize(review)\n",
    "#    print(words)\n",
    "    for word in words :\n",
    "        if word not in set(stopwords.words('english')) and word not in string.punctuation:\n",
    "            total_words.append(word)\n",
    "#            print(words)\n",
    "reviews"
   ]
  },
  {
   "cell_type": "code",
   "execution_count": 107,
   "id": "4d24b5f7-712f-4186-b33c-15f862ebd52a",
   "metadata": {},
   "outputs": [
    {
     "name": "stdout",
     "output_type": "stream",
     "text": [
      "Requirement already satisfied: wordcloud in c:\\users\\soura\\anaconda3\\lib\\site-packages (1.9.4)\n",
      "Requirement already satisfied: numpy>=1.6.1 in c:\\users\\soura\\anaconda3\\lib\\site-packages (from wordcloud) (1.26.4)\n",
      "Requirement already satisfied: pillow in c:\\users\\soura\\anaconda3\\lib\\site-packages (from wordcloud) (10.4.0)\n",
      "Requirement already satisfied: matplotlib in c:\\users\\soura\\anaconda3\\lib\\site-packages (from wordcloud) (3.9.2)\n",
      "Requirement already satisfied: contourpy>=1.0.1 in c:\\users\\soura\\anaconda3\\lib\\site-packages (from matplotlib->wordcloud) (1.2.0)\n",
      "Requirement already satisfied: cycler>=0.10 in c:\\users\\soura\\anaconda3\\lib\\site-packages (from matplotlib->wordcloud) (0.11.0)\n",
      "Requirement already satisfied: fonttools>=4.22.0 in c:\\users\\soura\\anaconda3\\lib\\site-packages (from matplotlib->wordcloud) (4.51.0)\n",
      "Requirement already satisfied: kiwisolver>=1.3.1 in c:\\users\\soura\\anaconda3\\lib\\site-packages (from matplotlib->wordcloud) (1.4.4)\n",
      "Requirement already satisfied: packaging>=20.0 in c:\\users\\soura\\anaconda3\\lib\\site-packages (from matplotlib->wordcloud) (24.1)\n",
      "Requirement already satisfied: pyparsing>=2.3.1 in c:\\users\\soura\\anaconda3\\lib\\site-packages (from matplotlib->wordcloud) (3.1.2)\n",
      "Requirement already satisfied: python-dateutil>=2.7 in c:\\users\\soura\\anaconda3\\lib\\site-packages (from matplotlib->wordcloud) (2.9.0.post0)\n",
      "Requirement already satisfied: six>=1.5 in c:\\users\\soura\\anaconda3\\lib\\site-packages (from python-dateutil>=2.7->matplotlib->wordcloud) (1.16.0)\n"
     ]
    }
   ],
   "source": [
    "!pip3 install wordcloud"
   ]
  },
  {
   "cell_type": "code",
   "execution_count": 134,
   "id": "e525c411-9398-4352-bd43-f27f7f1d9717",
   "metadata": {},
   "outputs": [
    {
     "data": {
      "text/html": [
       "<div>\n",
       "<style scoped>\n",
       "    .dataframe tbody tr th:only-of-type {\n",
       "        vertical-align: middle;\n",
       "    }\n",
       "\n",
       "    .dataframe tbody tr th {\n",
       "        vertical-align: top;\n",
       "    }\n",
       "\n",
       "    .dataframe thead th {\n",
       "        text-align: right;\n",
       "    }\n",
       "</style>\n",
       "<table border=\"1\" class=\"dataframe\">\n",
       "  <thead>\n",
       "    <tr style=\"text-align: right;\">\n",
       "      <th></th>\n",
       "      <th>Airline Name</th>\n",
       "      <th>Overall_Rating</th>\n",
       "      <th>Review</th>\n",
       "      <th>Recommended</th>\n",
       "      <th>Cleaned Review</th>\n",
       "      <th>Labels</th>\n",
       "    </tr>\n",
       "  </thead>\n",
       "  <tbody>\n",
       "    <tr>\n",
       "      <th>0</th>\n",
       "      <td>AB Aviation</td>\n",
       "      <td>9</td>\n",
       "      <td>Moroni to Moheli. Turned out to be a pretty decent airline. Online booking worked well, checkin and boarding was fine and the plane looked well maintained. Its a very short flight - just 20 minutes or so so i didn't expect much but they still managed to hand our a bottle of water and some biscuits which i though was very nice. Both flights on time.</td>\n",
       "      <td>yes</td>\n",
       "      <td>moroni to moheli turned out to be a pretty decent airline online booking worked well checkin and boarding was fine and the plane looked well maintained its a very short flight just  minutes or so so i didn t expect much but they still managed to hand our a bottle of water and some biscuits which i though was very nice both flights on time</td>\n",
       "      <td>0</td>\n",
       "    </tr>\n",
       "    <tr>\n",
       "      <th>1</th>\n",
       "      <td>AB Aviation</td>\n",
       "      <td>1</td>\n",
       "      <td>Moroni to Anjouan. It is a very small airline. My ticket advised me to turn up at 0800hrs which I did. There was confusion at this small airport. I was then directed to the office of AB Aviation which was still closed. It opened at 0900hrs and I was told that the flight had been put back to 1300hrs and that they had tried to contact me. This could not be true as they did not have my phone number. I was with a local guide and he had not been informed either. I presume that I was bumped off. The later flight did operate but as usual, there was confusion at check-in. The flight was only 30mins and there were no further problems. Not a good airline but it is the only one for Comoros.</td>\n",
       "      <td>no</td>\n",
       "      <td>moroni to anjouan it is a very small airline my ticket advised me to turn up at hrs which i did there was confusion at this small airport i was then directed to the office of ab aviation which was still closed it opened at hrs and i was told that the flight had been put back to hrs and that they had tried to contact me this could not be true as they did not have my phone number i was with a local guide and he had not been informed either i presume that i was bumped off the later flight did operate but as usual there was confusion at check in the flight was only mins and there were no further problems not a good airline but it is the only one for comoros</td>\n",
       "      <td>0</td>\n",
       "    </tr>\n",
       "    <tr>\n",
       "      <th>2</th>\n",
       "      <td>AB Aviation</td>\n",
       "      <td>1</td>\n",
       "      <td>Anjouan to Dzaoudzi. A very small airline and the only airline based in Comoros. Check-in was disorganised because of locals with big packages and disinterested staff. The flight was fortunately short (30 mins). Took off on time and landed on time. With a short flight like there was of course no in-flight entertainment nor cabin service except for biscuits and a bottle of water, which was quite nice!</td>\n",
       "      <td>no</td>\n",
       "      <td>anjouan to dzaoudzi a very small airline and the only airline based in comoros check in was disorganised because of locals with big packages and disinterested staff the flight was fortunately short  mins took off on time and landed on time with a short flight like there was of course no in flight entertainment nor cabin service except for biscuits and a bottle of water which was quite nice</td>\n",
       "      <td>0</td>\n",
       "    </tr>\n",
       "    <tr>\n",
       "      <th>3</th>\n",
       "      <td>Adria Airways</td>\n",
       "      <td>1</td>\n",
       "      <td>Please do a favor yourself and do not fly with Adria. On the route from Munich to Pristina in July 2019 they lost my luggage and for 10 days in a row, despite numerous phone calls they were not able to locate it. 11 days later the luggage arrived at the destination completely ruined. Applying for compensation, they ignored my request. Foolishly again, I booked another flight with them (345 euros) Frankfurt - Pristina in September 2019. They cancelled the flight with no reason 24 hours before the departure. Desperate phone calls to customer service to get anything (rerouting, compensation, etc) were not responded. I will never fly again with Adria. What a disgrace! Shame on you Adria for constantly deceiving your customers.</td>\n",
       "      <td>no</td>\n",
       "      <td>please do a favor yourself and do not fly with adria on the route from munich to pristina in july  they lost my luggage and for  days in a row despite numerous phone calls they were not able to locate it  days later the luggage arrived at the destination completely ruined applying for compensation they ignored my request foolishly again i booked another flight with them  euros frankfurt pristina in september  they cancelled the flight with no reason  hours before the departure desperate phone calls to customer service to get anything rerouting compensation etc were not responded i will never fly again with adria what a disgrace shame on you adria for constantly deceiving your customers</td>\n",
       "      <td>4</td>\n",
       "    </tr>\n",
       "    <tr>\n",
       "      <th>4</th>\n",
       "      <td>Adria Airways</td>\n",
       "      <td>1</td>\n",
       "      <td>Do not book a flight with this airline! My friend and I should have returned from Sofia to Amsterdam on September 22 and 3 days before, they sent us an SMS informing the flight was cancelled. For 3 straight days we tried to reach the airline and the web agent (e-dreams) and we did not get a solution. Finally, 18 hours before our cancelled flight time, and after 35 minutes on a call (waiting), the airline was able to get us on a flight with Lufthansa. Do not book Adria Airways, it is unreliable and in our case, it ruined our last days of holidays since we needed to be on the phones all day.</td>\n",
       "      <td>no</td>\n",
       "      <td>do not book a flight with this airline my friend and i should have returned from sofia to amsterdam on september  and  days before they sent us an sms informing the flight was cancelled for  straight days we tried to reach the airline and the web agent e dreams and we did not get a solution finally  hours before our cancelled flight time and after  minutes on a call waiting the airline was able to get us on a flight with lufthansa do not book adria airways it is unreliable and in our case it ruined our last days of holidays since we needed to be on the phones all day</td>\n",
       "      <td>4</td>\n",
       "    </tr>\n",
       "  </tbody>\n",
       "</table>\n",
       "</div>"
      ],
      "text/plain": [
       "    Airline Name Overall_Rating  \\\n",
       "0    AB Aviation              9   \n",
       "1    AB Aviation              1   \n",
       "2    AB Aviation              1   \n",
       "3  Adria Airways              1   \n",
       "4  Adria Airways              1   \n",
       "\n",
       "                                                                                                                                                                                                                                                                                                                                                                                                                                                                                                                                                                                                                                                                                                                                                           Review  \\\n",
       "0                                                                                                                                                                                                                                                                                                                                                                                                  Moroni to Moheli. Turned out to be a pretty decent airline. Online booking worked well, checkin and boarding was fine and the plane looked well maintained. Its a very short flight - just 20 minutes or so so i didn't expect much but they still managed to hand our a bottle of water and some biscuits which i though was very nice. Both flights on time.   \n",
       "1                                                Moroni to Anjouan. It is a very small airline. My ticket advised me to turn up at 0800hrs which I did. There was confusion at this small airport. I was then directed to the office of AB Aviation which was still closed. It opened at 0900hrs and I was told that the flight had been put back to 1300hrs and that they had tried to contact me. This could not be true as they did not have my phone number. I was with a local guide and he had not been informed either. I presume that I was bumped off. The later flight did operate but as usual, there was confusion at check-in. The flight was only 30mins and there were no further problems. Not a good airline but it is the only one for Comoros.   \n",
       "2                                                                                                                                                                                                                                                                                                                                             Anjouan to Dzaoudzi. A very small airline and the only airline based in Comoros. Check-in was disorganised because of locals with big packages and disinterested staff. The flight was fortunately short (30 mins). Took off on time and landed on time. With a short flight like there was of course no in-flight entertainment nor cabin service except for biscuits and a bottle of water, which was quite nice!   \n",
       "3    Please do a favor yourself and do not fly with Adria. On the route from Munich to Pristina in July 2019 they lost my luggage and for 10 days in a row, despite numerous phone calls they were not able to locate it. 11 days later the luggage arrived at the destination completely ruined. Applying for compensation, they ignored my request. Foolishly again, I booked another flight with them (345 euros) Frankfurt - Pristina in September 2019. They cancelled the flight with no reason 24 hours before the departure. Desperate phone calls to customer service to get anything (rerouting, compensation, etc) were not responded. I will never fly again with Adria. What a disgrace! Shame on you Adria for constantly deceiving your customers.   \n",
       "4                                                                                                                                            Do not book a flight with this airline! My friend and I should have returned from Sofia to Amsterdam on September 22 and 3 days before, they sent us an SMS informing the flight was cancelled. For 3 straight days we tried to reach the airline and the web agent (e-dreams) and we did not get a solution. Finally, 18 hours before our cancelled flight time, and after 35 minutes on a call (waiting), the airline was able to get us on a flight with Lufthansa. Do not book Adria Airways, it is unreliable and in our case, it ruined our last days of holidays since we needed to be on the phones all day.   \n",
       "\n",
       "  Recommended  \\\n",
       "0         yes   \n",
       "1          no   \n",
       "2          no   \n",
       "3          no   \n",
       "4          no   \n",
       "\n",
       "                                                                                                                                                                                                                                                                                                                                                                                                                                                                                                                                                                                                                                                                                                             Cleaned Review  \\\n",
       "0                                                                                                                                                                                                                                                                                                                                                                     moroni to moheli turned out to be a pretty decent airline online booking worked well checkin and boarding was fine and the plane looked well maintained its a very short flight just  minutes or so so i didn t expect much but they still managed to hand our a bottle of water and some biscuits which i though was very nice both flights on time    \n",
       "1                                    moroni to anjouan it is a very small airline my ticket advised me to turn up at hrs which i did there was confusion at this small airport i was then directed to the office of ab aviation which was still closed it opened at hrs and i was told that the flight had been put back to hrs and that they had tried to contact me this could not be true as they did not have my phone number i was with a local guide and he had not been informed either i presume that i was bumped off the later flight did operate but as usual there was confusion at check in the flight was only mins and there were no further problems not a good airline but it is the only one for comoros    \n",
       "2                                                                                                                                                                                                                                                                                                                 anjouan to dzaoudzi a very small airline and the only airline based in comoros check in was disorganised because of locals with big packages and disinterested staff the flight was fortunately short  mins took off on time and landed on time with a short flight like there was of course no in flight entertainment nor cabin service except for biscuits and a bottle of water which was quite nice    \n",
       "3   please do a favor yourself and do not fly with adria on the route from munich to pristina in july  they lost my luggage and for  days in a row despite numerous phone calls they were not able to locate it  days later the luggage arrived at the destination completely ruined applying for compensation they ignored my request foolishly again i booked another flight with them  euros frankfurt pristina in september  they cancelled the flight with no reason  hours before the departure desperate phone calls to customer service to get anything rerouting compensation etc were not responded i will never fly again with adria what a disgrace shame on you adria for constantly deceiving your customers    \n",
       "4                                                                                                                            do not book a flight with this airline my friend and i should have returned from sofia to amsterdam on september  and  days before they sent us an sms informing the flight was cancelled for  straight days we tried to reach the airline and the web agent e dreams and we did not get a solution finally  hours before our cancelled flight time and after  minutes on a call waiting the airline was able to get us on a flight with lufthansa do not book adria airways it is unreliable and in our case it ruined our last days of holidays since we needed to be on the phones all day    \n",
       "\n",
       "   Labels  \n",
       "0       0  \n",
       "1       0  \n",
       "2       0  \n",
       "3       4  \n",
       "4       4  "
      ]
     },
     "execution_count": 134,
     "metadata": {},
     "output_type": "execute_result"
    }
   ],
   "source": [
    "from sklearn.preprocessing import LabelEncoder\n",
    "encoder = LabelEncoder()\n",
    "df_new['Labels']=encoder.fit_transform(df_new[\"Airline Name\"])\n",
    "df_new.head()"
   ]
  },
  {
   "cell_type": "code",
   "execution_count": 140,
   "id": "a3effdff-00d4-4186-8562-fa46e64d1c0a",
   "metadata": {},
   "outputs": [
    {
     "name": "stdout",
     "output_type": "stream",
     "text": [
      "(23171,)\n",
      "(23171,)\n",
      "(17378,)\n",
      "(5793,)\n",
      "(17378,)\n",
      "(5793,)\n"
     ]
    }
   ],
   "source": [
    "from sklearn.model_selection import train_test_split\n",
    "from sklearn.model_selection import train_test_split\n",
    "\n",
    "# how to define X and y (from the SMS data) for use with COUNTVECTORIZER\n",
    "X = df_new[\"Cleaned Review\"]\n",
    "y = df_new.Recommended\n",
    "print(X.shape)\n",
    "print(y.shape)\n",
    "\n",
    "X_train, X_test, y_train, y_test = train_test_split(X, y, random_state=1)\n",
    "\n",
    "print(X_train.shape)\n",
    "print(X_test.shape)\n",
    "print(y_train.shape)\n",
    "print(y_test.shape)"
   ]
  },
  {
   "cell_type": "code",
   "execution_count": 142,
   "id": "17793c25-bac9-49aa-aae9-a3b8d6bddac5",
   "metadata": {},
   "outputs": [
    {
     "name": "stdout",
     "output_type": "stream",
     "text": [
      "<class 'scipy.sparse._csr.csr_matrix'> (17378, 26103)\n",
      "<class 'scipy.sparse._csr.csr_matrix'> (5793, 26103)\n"
     ]
    }
   ],
   "source": [
    "from sklearn.feature_extraction.text import CountVectorizer\n",
    "\n",
    "# instantiate the vectorizer\n",
    "vect = CountVectorizer()\n",
    "vect.fit(X_train)\n",
    "\n",
    "# learn training data vocabulary, then use it to create a document-term matrix\n",
    "X_train_dtm = vect.transform(X_train)\n",
    "\n",
    "# equivalently: combine fit and transform into a single step\n",
    "X_train_dtm = vect.fit_transform(X_train)\n",
    "\n",
    "\n",
    "# examine the document-term matrix\n",
    "print(type(X_train_dtm), X_train_dtm.shape)\n",
    "\n",
    "# transform testing data (using fitted vocabulary) into a document-term matrix\n",
    "X_test_dtm = vect.transform(X_test)\n",
    "print(type(X_test_dtm), X_test_dtm.shape)"
   ]
  },
  {
   "cell_type": "code",
   "execution_count": 144,
   "id": "c7b2b86a-9115-4b73-967e-470306919204",
   "metadata": {},
   "outputs": [
    {
     "data": {
      "text/plain": [
       "<17378x26103 sparse matrix of type '<class 'numpy.float64'>'\n",
       "\twith 1383874 stored elements in Compressed Sparse Row format>"
      ]
     },
     "execution_count": 144,
     "metadata": {},
     "output_type": "execute_result"
    }
   ],
   "source": [
    "from sklearn.feature_extraction.text import TfidfTransformer\n",
    "\n",
    "tfidf_transformer = TfidfTransformer()\n",
    "tfidf_transformer.fit(X_train_dtm)\n",
    "tfidf_transformer.transform(X_train_dtm)"
   ]
  },
  {
   "cell_type": "code",
   "execution_count": 146,
   "id": "2fc605c6-9578-442c-a8c6-2fd5ad8c738e",
   "metadata": {},
   "outputs": [
    {
     "name": "stdout",
     "output_type": "stream",
     "text": [
      "=======Accuracy Score===========\n",
      "0.8693250474710857\n"
     ]
    }
   ],
   "source": [
    "from sklearn.naive_bayes import MultinomialNB\n",
    "nb = MultinomialNB()\n",
    "nb.fit(X_train_dtm, y_train)\n",
    "from sklearn import metrics\n",
    "\n",
    "# make class predictions for X_test_dtm\n",
    "y_pred_class = nb.predict(X_test_dtm)\n",
    "\n",
    "# calculate accuracy of class predictions\n",
    "print(\"=======Accuracy Score===========\")\n",
    "print(metrics.accuracy_score(y_test, y_pred_class))"
   ]
  },
  {
   "cell_type": "code",
   "execution_count": 158,
   "id": "5b7f7365-bfdb-465b-852e-884a0d299966",
   "metadata": {},
   "outputs": [
    {
     "name": "stdout",
     "output_type": "stream",
     "text": [
      "=======Accuracy Score===========\n",
      "0.8380804419126532\n",
      "=======Confision Matrix===========\n"
     ]
    },
    {
     "data": {
      "text/plain": [
       "array([[3641,  186],\n",
       "       [ 752, 1214]], dtype=int64)"
      ]
     },
     "execution_count": 158,
     "metadata": {},
     "output_type": "execute_result"
    }
   ],
   "source": [
    "from sklearn.feature_extraction.text import TfidfTransformer\n",
    "from sklearn.pipeline import Pipeline\n",
    "\n",
    "pipe = Pipeline([('bow', CountVectorizer()), \n",
    "                 ('tfid', TfidfTransformer()),  \n",
    "                 ('model', MultinomialNB())])\n",
    "\n",
    "pipe.fit(X_train, y_train)\n",
    "y_pred = pipe.predict(X_test)\n",
    "\n",
    "# calculate accuracy of class predictions\n",
    "print(\"=======Accuracy Score===========\")\n",
    "print(metrics.accuracy_score(y_test, y_pred))\n",
    "\n",
    "# print the confusion matrix\n",
    "print(\"=======Confision Matrix===========\")\n",
    "metrics.confusion_matrix(y_test, y_pred)"
   ]
  },
  {
   "cell_type": "code",
   "execution_count": 160,
   "id": "792a68c2-5e7d-40be-a765-3835a6828157",
   "metadata": {},
   "outputs": [
    {
     "name": "stdout",
     "output_type": "stream",
     "text": [
      "CPU times: total: 2.97 s\n",
      "Wall time: 2.66 s\n",
      "=======Accuracy Score===========\n",
      "0.8693250474710857\n"
     ]
    }
   ],
   "source": [
    "from sklearn.linear_model import LogisticRegression\n",
    "\n",
    "logreg = LogisticRegression(solver='liblinear')\n",
    "\n",
    "# train the model using X_train_dtm\n",
    "%time logreg.fit(X_train_dtm, y_train)\n",
    "\n",
    "# calculate accuracy of class predictions\n",
    "print(\"=======Accuracy Score===========\")\n",
    "print(metrics.accuracy_score(y_test, y_pred_class))"
   ]
  },
  {
   "cell_type": "code",
   "execution_count": null,
   "id": "06b89d96-c7e0-4ba9-a4c4-2005991993d8",
   "metadata": {},
   "outputs": [],
   "source": []
  }
 ],
 "metadata": {
  "kernelspec": {
   "display_name": "Python 3 (ipykernel)",
   "language": "python",
   "name": "python3"
  },
  "language_info": {
   "codemirror_mode": {
    "name": "ipython",
    "version": 3
   },
   "file_extension": ".py",
   "mimetype": "text/x-python",
   "name": "python",
   "nbconvert_exporter": "python",
   "pygments_lexer": "ipython3",
   "version": "3.12.7"
  }
 },
 "nbformat": 4,
 "nbformat_minor": 5
}
